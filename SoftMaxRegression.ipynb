{
 "cells": [
  {
   "cell_type": "markdown",
   "id": "6d25db95",
   "metadata": {},
   "source": [
    "## Proyecto 2: Clasificación \n",
    "#### Aprendizaje Automatico\n",
    "\n",
    "### SoftMax Regression: IRIS DATASET\n",
    "\n",
    "\n",
    "#### Librerías"
   ]
  },
  {
   "cell_type": "code",
   "execution_count": 1,
   "id": "f03b7462",
   "metadata": {},
   "outputs": [],
   "source": [
    "import numpy as np\n",
    "import matplotlib.pyplot as plt\n",
    "from sklearn.model_selection import train_test_split\n",
    "from sklearn import datasets\n",
    "from sklearn.metrics import confusion_matrix, classification_report\n",
    "from sklearn.linear_model import LogisticRegression\n",
    "from scipy.sparse import csr_matrix\n",
    "from sklearn.preprocessing import StandardScaler\n",
    "from sklearn.utils import shuffle\n",
    "import scipy.sparse\n",
    "import seaborn as sns"
   ]
  },
  {
   "cell_type": "markdown",
   "id": "fd373fd4",
   "metadata": {},
   "source": [
    "### Dataset \n",
    "1. Se carga el data set de iris, X es el vector de features y y es la clase de cada flor. \n",
    "2. Se realiza el escalamiento para X\n",
    "3. Los datos son ordenados aleatoriamente\n",
    "4. Se seleccionan los datos de entrenamiento y de prueba\n",
    "5. Se agrega la columna de 1's para cada vector de entrada"
   ]
  },
  {
   "cell_type": "code",
   "execution_count": 2,
   "id": "b38c533e",
   "metadata": {},
   "outputs": [],
   "source": [
    "iris = datasets.load_iris()\n",
    "X = iris[\"data\"][::]\n",
    "y = (iris[\"target\"]).astype(int).reshape(len(iris.target),1)"
   ]
  },
  {
   "cell_type": "code",
   "execution_count": 3,
   "id": "b50941eb",
   "metadata": {},
   "outputs": [],
   "source": [
    "scaler = StandardScaler()\n",
    "X = scaler.fit_transform(X)"
   ]
  },
  {
   "cell_type": "code",
   "execution_count": 4,
   "id": "d743855f",
   "metadata": {},
   "outputs": [],
   "source": [
    "def shuffleData(X, y):\n",
    "    n = X.shape[1]\n",
    "    data = np.c_[X, y]\n",
    "    data = shuffle(data)\n",
    "    \n",
    "    return data[:,0:n], data[:,n:]"
   ]
  },
  {
   "cell_type": "code",
   "execution_count": 5,
   "id": "47f77c9f",
   "metadata": {},
   "outputs": [],
   "source": [
    "X_, y_ = shuffleData(X, y)\n",
    "X_train, X_test, y_train, y_test = train_test_split(X_,y_, test_size=0.3, random_state=55)"
   ]
  },
  {
   "cell_type": "code",
   "execution_count": 6,
   "id": "01d1e826",
   "metadata": {},
   "outputs": [],
   "source": [
    "X_train = np.c_[np.ones((len(X_train),1)), X_train]\n",
    "X_test = np.c_[np.ones((len(X_test),1)), X_test]"
   ]
  },
  {
   "cell_type": "markdown",
   "id": "a1868a1e",
   "metadata": {},
   "source": [
    "### Score   $s_k(x)=X^T\\theta^{k}$\n",
    "Cada clase tiene su propio parámetro $\\theta^k$\n"
   ]
  },
  {
   "cell_type": "markdown",
   "id": "41fa6867",
   "metadata": {},
   "source": [
    "def score_x(x, theta):\n",
    "    score=[]\n",
    "    for i in range(theta.shape[1]):\n",
    "        score.append(x @(theta[:,i]))\n",
    "    return score"
   ]
  },
  {
   "cell_type": "code",
   "execution_count": 7,
   "id": "f3f6e5e9",
   "metadata": {},
   "outputs": [],
   "source": [
    "def SCORE(x, theta): \n",
    "    score = x@theta\n",
    "    return score"
   ]
  },
  {
   "cell_type": "markdown",
   "id": "7d9877e5",
   "metadata": {},
   "source": [
    "### Función softmax\n",
    "\n",
    "#         $\\hat{p_k}=\\frac{\\exp(s_k(x))}{\\sum_{j=1}^{K}{\\exp(s_j(x))}}$"
   ]
  },
  {
   "cell_type": "markdown",
   "id": "967f9f48",
   "metadata": {},
   "source": [
    "def softmaxfunction(s): \n",
    "    return np.exp(s)/np.exp(s).sum()"
   ]
  },
  {
   "cell_type": "code",
   "execution_count": 8,
   "id": "84946ac3",
   "metadata": {},
   "outputs": [],
   "source": [
    "def smf(s):\n",
    "    return (np.exp(s.T) / np.sum(np.exp(s), axis=1)).T"
   ]
  },
  {
   "cell_type": "markdown",
   "id": "1566b591",
   "metadata": {},
   "source": [
    "### Función Costo y Gradiente"
   ]
  },
  {
   "cell_type": "code",
   "execution_count": 9,
   "id": "12a671f2",
   "metadata": {},
   "outputs": [],
   "source": [
    "def oneHotIt(Y):\n",
    "    m = Y.shape[0]\n",
    "    Y = Y.ravel()\n",
    "    OHX = scipy.sparse.csr_matrix((np.ones(m), (Y, np.array(range(m)))))\n",
    "    OHX = np.array(OHX.todense()).T\n",
    "    return OHX"
   ]
  },
  {
   "attachments": {
    "image.png": {
     "image/png": "[encoded data removed]"
    }
   },
   "cell_type": "markdown",
   "id": "d093b895",
   "metadata": {},
   "source": [
    "##### Codificación One Hot para multiclase\n",
    "![image.png](attachment:image.png)"
   ]
  },
  {
   "cell_type": "code",
   "execution_count": 10,
   "id": "7b0934c5",
   "metadata": {},
   "outputs": [
    {
     "name": "stdout",
     "output_type": "stream",
     "text": [
      "Codificación One Hot para las clases\n",
      " [[0. 1. 0.]\n",
      " [0. 0. 1.]\n",
      " [0. 1. 0.]]\n",
      "Clasificación de clases\n",
      " [[1.]\n",
      " [2.]\n",
      " [1.]]\n"
     ]
    }
   ],
   "source": [
    "encoded = oneHotIt(y_train[4:7].astype(int))\n",
    "print('Codificación One Hot para las clases\\n', encoded)\n",
    "print('Clasificación de clases\\n', y_train[4:7])\n"
   ]
  },
  {
   "cell_type": "code",
   "execution_count": 11,
   "id": "2404cce7",
   "metadata": {},
   "outputs": [],
   "source": [
    "def costo(theta,x,y,lam):\n",
    "    m = x.shape[0] \n",
    "    y_mat = oneHotIt(y) \n",
    "    scores = SCORE(x,theta) \n",
    "    prob = smf(scores) \n",
    "    loss = (-1 / m) * np.sum(y_mat * np.log(prob)) \n",
    "    grad = (-1 / m) * (x.T @ (y_mat - prob)) \n",
    "    return loss,grad"
   ]
  },
  {
   "cell_type": "code",
   "execution_count": 12,
   "id": "0364f87c",
   "metadata": {},
   "outputs": [],
   "source": [
    "def getProbsAndPreds(someX):\n",
    "    probs = smf(SCORE(someX, theta))\n",
    "    preds = np.argmax(probs,axis=1)\n",
    "    return probs,preds"
   ]
  },
  {
   "cell_type": "markdown",
   "id": "07983302",
   "metadata": {},
   "source": [
    "### Entrenamiento del modelo\n",
    "* $\\eta$ = 0.85\n",
    "* iteraciones = 5000\n",
    "* Método: Gradient Descent"
   ]
  },
  {
   "cell_type": "code",
   "execution_count": 13,
   "id": "22ae1624",
   "metadata": {},
   "outputs": [
    {
     "name": "stdout",
     "output_type": "stream",
     "text": [
      "Vector de pesos iniciales: \n",
      " [[0.55568097 0.895175   0.68748607]\n",
      " [0.68713327 0.15672929 0.74018374]\n",
      " [0.79851078 0.15450062 0.59926573]\n",
      " [0.40526782 0.28813503 0.62639724]\n",
      " [0.27524326 0.64376112 0.95096335]]\n"
     ]
    }
   ],
   "source": [
    "theta = np.random.rand(X_train.shape[1],len(np.unique(y_train)))\n",
    "print ('Vector de pesos iniciales: \\n',  theta)"
   ]
  },
  {
   "cell_type": "code",
   "execution_count": 14,
   "id": "d34f6683",
   "metadata": {},
   "outputs": [
    {
     "name": "stdout",
     "output_type": "stream",
     "text": [
      "Costo final:  0.02494208996677771\n"
     ]
    }
   ],
   "source": [
    "eta = 0.85\n",
    "n_epochs= 5000\n",
    "\n",
    "J = []\n",
    "for i in range(0,n_epochs):\n",
    "    loss,grad = costo(theta,X_train,y_train.astype(int),1)\n",
    "    J.append(loss)\n",
    "    theta = theta - (eta * grad)\n",
    "print ('Costo final: ', loss)"
   ]
  },
  {
   "cell_type": "code",
   "execution_count": 15,
   "id": "260fdbbd",
   "metadata": {},
   "outputs": [
    {
     "name": "stdout",
     "output_type": "stream",
     "text": [
      "El mejor vector de pesos de acuerdo al entrenamiento:\n",
      " [[ 0.66470353  8.28507848 -6.81143997]\n",
      " [-2.4135257   3.49821637  0.49935562]\n",
      " [ 3.53363066  0.23267275 -2.21402627]\n",
      " [-5.68758588 -2.58278952  9.59017549]\n",
      " [-5.24971439 -2.18022355  9.29990567]]\n"
     ]
    }
   ],
   "source": [
    "print ('El mejor vector de pesos de acuerdo al entrenamiento:\\n', theta)"
   ]
  },
  {
   "cell_type": "code",
   "execution_count": 16,
   "id": "b8cecf73",
   "metadata": {},
   "outputs": [
    {
     "data": {
      "image/png": "[encoded data removed]",
      "text/plain": [
       "<Figure size 432x288 with 1 Axes>"
      ]
     },
     "metadata": {
      "needs_background": "light"
     },
     "output_type": "display_data"
    }
   ],
   "source": [
    "plt.title('Función costo vs iteraciones', fontsize=18)\n",
    "plt.ylabel(r'$J\\theta$', fontsize=18)\n",
    "plt.xlabel('iteraciones', fontsize=18)\n",
    "plt.grid()\n",
    "plt.plot(J)\n",
    "plt.show()"
   ]
  },
  {
   "cell_type": "markdown",
   "id": "6cf48f36",
   "metadata": {},
   "source": [
    "## Predicciones\n",
    "Predicciones para los datos de prueba"
   ]
  },
  {
   "cell_type": "code",
   "execution_count": 17,
   "id": "b899056c",
   "metadata": {},
   "outputs": [],
   "source": [
    "prob,y_pred = getProbsAndPreds(X_test)"
   ]
  },
  {
   "cell_type": "code",
   "execution_count": 18,
   "id": "597c975e",
   "metadata": {},
   "outputs": [
    {
     "data": {
      "text/plain": [
       "array([2, 2, 2, 0, 1, 1, 0, 1, 0, 2, 0, 2, 1, 2, 2, 1, 0, 1, 2, 0, 2, 1,\n",
       "       1, 0, 2, 1, 0, 1, 1, 1, 1, 0, 0, 0, 1, 2, 1, 1, 2, 2, 0, 0, 2, 0,\n",
       "       2], dtype=int32)"
      ]
     },
     "execution_count": 18,
     "metadata": {},
     "output_type": "execute_result"
    }
   ],
   "source": [
    "y_pred"
   ]
  },
  {
   "cell_type": "code",
   "execution_count": 19,
   "id": "4f7243ab",
   "metadata": {},
   "outputs": [
    {
     "data": {
      "text/plain": [
       "array([2., 1., 2., 0., 1., 1., 0., 1., 0., 2., 0., 2., 1., 2., 2., 1., 0.,\n",
       "       1., 2., 0., 2., 2., 1., 0., 2., 1., 0., 1., 1., 1., 1., 0., 0., 0.,\n",
       "       1., 2., 1., 1., 2., 2., 0., 0., 2., 0., 2.])"
      ]
     },
     "execution_count": 19,
     "metadata": {},
     "output_type": "execute_result"
    }
   ],
   "source": [
    "y_test.ravel()"
   ]
  },
  {
   "cell_type": "code",
   "execution_count": 20,
   "id": "c3e39e2c",
   "metadata": {},
   "outputs": [
    {
     "name": "stdout",
     "output_type": "stream",
     "text": [
      "[[2]\n",
      " [2]\n",
      " [2]\n",
      " [0]\n",
      " [1]\n",
      " [1]]\n",
      "[[2.]\n",
      " [1.]\n",
      " [2.]\n",
      " [0.]\n",
      " [1.]\n",
      " [1.]]\n"
     ]
    }
   ],
   "source": [
    "print(y_pred[:6].reshape(-1,1))\n",
    "print(y_test[:6])"
   ]
  },
  {
   "cell_type": "markdown",
   "id": "da20f10e",
   "metadata": {},
   "source": [
    "### Calculo del error y análisis de resultados"
   ]
  },
  {
   "cell_type": "code",
   "execution_count": 21,
   "id": "8020b330",
   "metadata": {},
   "outputs": [],
   "source": [
    "def error(original_target, predict_target):\n",
    "    counter = 0.0\n",
    "    for i in range(len(original_target)):\n",
    "        if original_target[i] != predict_target[i]:\n",
    "            counter += 1\n",
    "            \n",
    "    return counter/len(original_target)"
   ]
  },
  {
   "cell_type": "code",
   "execution_count": 22,
   "id": "3ac10847",
   "metadata": {},
   "outputs": [],
   "source": [
    "ex = (error(y_test, y_pred))"
   ]
  },
  {
   "cell_type": "code",
   "execution_count": 23,
   "id": "7b5237f1",
   "metadata": {},
   "outputs": [
    {
     "name": "stdout",
     "output_type": "stream",
     "text": [
      "% Acierto:  95.55555555555556\n",
      "% Error : 4.444444444444445\n"
     ]
    }
   ],
   "source": [
    "print(\"% Acierto: \", (1-ex)*100)\n",
    "print(\"% Error :\", ex*100)"
   ]
  },
  {
   "cell_type": "code",
   "execution_count": 24,
   "id": "2cada441",
   "metadata": {},
   "outputs": [
    {
     "data": {
      "text/plain": [
       "array([[14,  0,  0],\n",
       "       [ 0, 15,  1],\n",
       "       [ 0,  1, 14]], dtype=int64)"
      ]
     },
     "execution_count": 24,
     "metadata": {},
     "output_type": "execute_result"
    }
   ],
   "source": [
    "cm = confusion_matrix(y_test , y_pred)\n",
    "cm"
   ]
  },
  {
   "cell_type": "code",
   "execution_count": 25,
   "id": "7400997e",
   "metadata": {
    "scrolled": true
   },
   "outputs": [
    {
     "data": {
      "image/png": "[encoded data removed]",
      "text/plain": [
       "<Figure size 432x288 with 2 Axes>"
      ]
     },
     "metadata": {
      "needs_background": "light"
     },
     "output_type": "display_data"
    }
   ],
   "source": [
    "y_axis_labels = iris[\"target_names\"]\n",
    "x_axis_labels = ['setosa_pred', 'versicolor_pred', 'virginica_pred']\n",
    "cm = confusion_matrix(y_test , y_pred)\n",
    "f = sns.heatmap(cm, annot=True,  xticklabels=x_axis_labels, yticklabels=y_axis_labels)"
   ]
  },
  {
   "cell_type": "code",
   "execution_count": 26,
   "id": "af6852ae",
   "metadata": {},
   "outputs": [
    {
     "name": "stdout",
     "output_type": "stream",
     "text": [
      "              precision    recall  f1-score   support\n",
      "\n",
      "      setosa       1.00      1.00      1.00        14\n",
      "  versicolor       0.94      0.94      0.94        16\n",
      "   virginica       0.93      0.93      0.93        15\n",
      "\n",
      "    accuracy                           0.96        45\n",
      "   macro avg       0.96      0.96      0.96        45\n",
      "weighted avg       0.96      0.96      0.96        45\n",
      "\n"
     ]
    }
   ],
   "source": [
    "print(classification_report(y_test, y_pred, target_names= iris[\"target_names\"]))"
   ]
  },
  {
   "cell_type": "code",
   "execution_count": 27,
   "id": "44801aa3",
   "metadata": {},
   "outputs": [
    {
     "name": "stdout",
     "output_type": "stream",
     "text": [
      "Probabilidades:\n",
      " [[2.08725838e-06 9.99679619e-01 3.18294131e-04]\n",
      " [9.99683043e-01 3.16957484e-04 4.80603492e-24]\n",
      " [1.43084332e-04 9.85260461e-01 1.45964551e-02]]\n",
      "\n",
      "suma de probabilidades: [1. 1. 1.]\n",
      "\n",
      "CLASE PREDECIDA:  [1 0 1]\n",
      "CLASE ORIGINAL: [1. 0. 1.]\n"
     ]
    }
   ],
   "source": [
    "prob,y_pred = getProbsAndPreds(X_test[5:8])\n",
    "print('Probabilidades:\\n', prob)\n",
    "print('\\nsuma de probabilidades:',np.sum(prob, axis=1))\n",
    "print('\\nCLASE PREDECIDA: ', y_pred)\n",
    "print('CLASE ORIGINAL:',y_test[5:8].ravel())"
   ]
  },
  {
   "cell_type": "code",
   "execution_count": null,
   "id": "261a7c76",
   "metadata": {},
   "outputs": [],
   "source": []
  }
 ],
 "metadata": {
  "kernelspec": {
   "display_name": "Python 3",
   "language": "python",
   "name": "python3"
  },
  "language_info": {
   "codemirror_mode": {
    "name": "ipython",
    "version": 3
   },
   "file_extension": ".py",
   "mimetype": "text/x-python",
   "name": "python",
   "nbconvert_exporter": "python",
   "pygments_lexer": "ipython3",
   "version": "3.8.8"
  }
 },
 "nbformat": 4,
 "nbformat_minor": 5
}
