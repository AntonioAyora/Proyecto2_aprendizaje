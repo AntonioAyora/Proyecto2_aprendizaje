{
 "cells": [
  {
   "cell_type": "markdown",
   "id": "6d25db95",
   "metadata": {},
   "source": [
    "## Proyecto 2: Clasificación \n",
    "#### Aprendizaje Automatico\n",
    "\n",
    "### SoftMax Regression: IRIS DATASET\n",
    "\n",
    "\n",
    "#### Librerías"
   ]
  },
  {
   "cell_type": "code",
   "execution_count": 54,
   "id": "f03b7462",
   "metadata": {},
   "outputs": [],
   "source": [
    "import numpy as np\n",
    "import matplotlib.pyplot as plt\n",
    "from sklearn.model_selection import train_test_split\n",
    "from sklearn import datasets\n",
    "from sklearn.metrics import confusion_matrix, classification_report\n",
    "from sklearn.linear_model import LogisticRegression\n",
    "from scipy.sparse import csr_matrix\n",
    "from sklearn.preprocessing import StandardScaler\n",
    "from sklearn.utils import shuffle\n",
    "import scipy.sparse\n",
    "import seaborn as sns"
   ]
  },
  {
   "cell_type": "markdown",
   "id": "fd373fd4",
   "metadata": {},
   "source": [
    "### Dataset \n",
    "1. Se carga el data set de iris, X es el vector de features y y es la clase de cada flor. \n",
    "2. Se realiza el escalamiento para X\n",
    "3. Los datos son ordenados aleatoriamente\n",
    "4. Se seleccionan los datos de entrenamiento y de prueba\n",
    "5. Se agrega la columna de 1's para cada vector de entrada"
   ]
  },
  {
   "cell_type": "code",
   "execution_count": 55,
   "id": "b38c533e",
   "metadata": {},
   "outputs": [],
   "source": [
    "iris = datasets.load_iris()\n",
    "X = iris[\"data\"][::]\n",
    "y = (iris[\"target\"]).astype(int).reshape(len(iris.target),1)"
   ]
  },
  {
   "cell_type": "code",
   "execution_count": 56,
   "id": "b50941eb",
   "metadata": {},
   "outputs": [],
   "source": [
    "scaler = StandardScaler()\n",
    "X = scaler.fit_transform(X)"
   ]
  },
  {
   "cell_type": "code",
   "execution_count": 57,
   "id": "d743855f",
   "metadata": {},
   "outputs": [],
   "source": [
    "def shuffleData(X, y):\n",
    "    n = X.shape[1]\n",
    "    data = np.c_[X, y]\n",
    "    data = shuffle(data)\n",
    "    \n",
    "    return data[:,0:n], data[:,n:]"
   ]
  },
  {
   "cell_type": "code",
   "execution_count": 58,
   "id": "f9295676",
   "metadata": {},
   "outputs": [],
   "source": [
    "X_, y_ = shuffleData(X, y)\n",
    "X_train, X_test, y_train, y_test = train_test_split(X_,y_, test_size=0.35, random_state=55)"
   ]
  },
  {
   "cell_type": "code",
   "execution_count": 59,
   "id": "dda7e72a",
   "metadata": {},
   "outputs": [],
   "source": [
    "X_train = np.c_[np.ones((len(X_train),1)), X_train]\n",
    "X_test = np.c_[np.ones((len(X_test),1)), X_test]"
   ]
  },
  {
   "cell_type": "markdown",
   "id": "a1868a1e",
   "metadata": {},
   "source": [
    "### Score   $s_k(x)=X^T\\theta^{k}$\n",
    "Cada clase tiene su propio parámetro $\\theta^k$\n"
   ]
  },
  {
   "cell_type": "markdown",
   "id": "b7d77787",
   "metadata": {},
   "source": [
    "def score_x(x, theta):\n",
    "    score=[]\n",
    "    for i in range(theta.shape[1]):\n",
    "        score.append(x @(theta[:,i]))\n",
    "    return score"
   ]
  },
  {
   "cell_type": "code",
   "execution_count": 60,
   "id": "1b52eb77",
   "metadata": {},
   "outputs": [],
   "source": [
    "def SCORE(x, theta): \n",
    "    score = x@theta\n",
    "    return score"
   ]
  },
  {
   "cell_type": "markdown",
   "id": "7d9877e5",
   "metadata": {},
   "source": [
    "### Función softmax\n",
    "\n",
    "#         $\\hat{p_k}=\\frac{\\exp(s_k(x))}{\\sum_{j=1}^{K}{\\exp(s_j(x))}}$"
   ]
  },
  {
   "cell_type": "markdown",
   "id": "4197ecac",
   "metadata": {},
   "source": [
    "def softmaxfunction(s): \n",
    "    return np.exp(s)/np.exp(s).sum()"
   ]
  },
  {
   "cell_type": "code",
   "execution_count": 61,
   "id": "6f3e75d7",
   "metadata": {},
   "outputs": [],
   "source": [
    "def smf(s):\n",
    "    return (np.exp(s.T) / np.sum(np.exp(s), axis=1)).T"
   ]
  },
  {
   "cell_type": "markdown",
   "id": "1566b591",
   "metadata": {},
   "source": [
    "### Función Costo y Gradiente"
   ]
  },
  {
   "cell_type": "code",
   "execution_count": 62,
   "id": "12a671f2",
   "metadata": {},
   "outputs": [],
   "source": [
    "def oneHotIt(Y):\n",
    "    m = Y.shape[0]\n",
    "    Y = Y.ravel()\n",
    "    OHX = scipy.sparse.csr_matrix((np.ones(m), (Y, np.array(range(m)))))\n",
    "    OHX = np.array(OHX.todense()).T\n",
    "    return OHX"
   ]
  },
  {
   "cell_type": "code",
   "execution_count": 63,
   "id": "923ca95c",
   "metadata": {},
   "outputs": [
    {
     "name": "stdout",
     "output_type": "stream",
     "text": [
      "Codificación One Hot para las clases\n",
      " [[0. 1. 0.]\n",
      " [0. 1. 0.]\n",
      " [0. 0. 1.]]\n",
      "Clasificación de clases\n",
      " [[1.]\n",
      " [1.]\n",
      " [2.]]\n"
     ]
    }
   ],
   "source": [
    "encoded = oneHotIt(y_train[4:7].astype(int))\n",
    "print('Codificación One Hot para las clases\\n', encoded)\n",
    "print('Clasificación de clases\\n', y_train[4:7])\n"
   ]
  },
  {
   "cell_type": "code",
   "execution_count": 64,
   "id": "2404cce7",
   "metadata": {},
   "outputs": [],
   "source": [
    "def costo(theta,x,y,lam):\n",
    "    m = x.shape[0] #First we get the number of training examples\n",
    "    y_mat = oneHotIt(y) #Next we convert the integer class coding into a one-hot representation\n",
    "    scores = SCORE(x,theta) #Then we compute raw class scores given our input and current weights\n",
    "    prob = smf(scores) #Next we perform a softmax on these scores to get their probabilities\n",
    "    loss = (-1 / m) * np.sum(y_mat * np.log(prob)) + (lam/2)*np.sum(theta*theta) #We then find the loss of the probabilities\n",
    "    grad = (-1 / m) * (x.T @ (y_mat - prob)) + lam*theta #And compute the gradient for that loss\n",
    "    return loss,grad"
   ]
  },
  {
   "cell_type": "code",
   "execution_count": 65,
   "id": "6d172010",
   "metadata": {},
   "outputs": [],
   "source": [
    "def getProbsAndPreds(someX):\n",
    "    probs = smf(SCORE(someX, theta))\n",
    "    preds = np.argmax(probs,axis=1)\n",
    "    return probs,preds"
   ]
  },
  {
   "cell_type": "markdown",
   "id": "48d963e2",
   "metadata": {},
   "source": [
    "### Entrenamiento del modelo\n",
    "* $\\eta$ = 0.65\n",
    "* iteraciones = 4000\n",
    "* Método: Gradient Descent"
   ]
  },
  {
   "cell_type": "code",
   "execution_count": 66,
   "id": "abe79e7b",
   "metadata": {},
   "outputs": [
    {
     "name": "stdout",
     "output_type": "stream",
     "text": [
      "Vector de pesos iniciales: \n",
      " [[0.2449015  0.1231131  0.34569375]\n",
      " [0.54872326 0.23785464 0.21008185]\n",
      " [0.52309578 0.82489709 0.69552245]\n",
      " [0.07676429 0.2621113  0.5086228 ]\n",
      " [0.81877728 0.40256508 0.3085675 ]]\n"
     ]
    }
   ],
   "source": [
    "theta = np.random.rand(X_train.shape[1],len(np.unique(y_train)))\n",
    "print ('Vector de pesos iniciales: \\n',  theta)"
   ]
  },
  {
   "cell_type": "code",
   "execution_count": 97,
   "id": "d34f6683",
   "metadata": {},
   "outputs": [
    {
     "name": "stdout",
     "output_type": "stream",
     "text": [
      "Costo final:  0.860319572796426\n"
     ]
    }
   ],
   "source": [
    "eta = 0.95\n",
    "n_epochs= 5000\n",
    "\n",
    "J = []\n",
    "for i in range(0,n_epochs):\n",
    "    loss,grad = costo(theta,X_train,y_train.astype(int),1)\n",
    "    J.append(loss)\n",
    "    theta = theta - (eta * grad)\n",
    "print ('Costo final: ', loss)"
   ]
  },
  {
   "cell_type": "code",
   "execution_count": 98,
   "id": "e5034486",
   "metadata": {},
   "outputs": [
    {
     "name": "stdout",
     "output_type": "stream",
     "text": [
      "El mejor vector de pesos de acuerdo al entrenamiento:\n",
      " [[-0.01920823  0.0321945  -0.01298627]\n",
      " [-0.16107176  0.0110002   0.15007156]\n",
      " [ 0.15826653 -0.13094711 -0.02731942]\n",
      " [-0.23070205  0.05560574  0.17509631]\n",
      " [-0.21709024  0.02170374  0.1953865 ]]\n"
     ]
    }
   ],
   "source": [
    "print ('El mejor vector de pesos de acuerdo al entrenamiento:\\n', theta)"
   ]
  },
  {
   "cell_type": "code",
   "execution_count": 70,
   "id": "b8cecf73",
   "metadata": {},
   "outputs": [
    {
     "data": {
      "image/png": "[encoded data removed]",
      "text/plain": [
       "<Figure size 432x288 with 1 Axes>"
      ]
     },
     "metadata": {
      "needs_background": "light"
     },
     "output_type": "display_data"
    }
   ],
   "source": [
    "plt.title('Función costo vs iteraciones', fontsize=18)\n",
    "plt.ylabel(r'$J\\theta$', fontsize=18)\n",
    "plt.xlabel('iteraciones', fontsize=18)\n",
    "plt.grid()\n",
    "plt.plot(J)\n",
    "plt.show()"
   ]
  },
  {
   "cell_type": "markdown",
   "id": "e6f8c64b",
   "metadata": {},
   "source": [
    "## Predicciones\n",
    "Predicciones para los datos de prueba"
   ]
  },
  {
   "cell_type": "code",
   "execution_count": 99,
   "id": "2f7edaa0",
   "metadata": {},
   "outputs": [],
   "source": [
    "prob,y_pred = getProbsAndPreds(X_test)"
   ]
  },
  {
   "cell_type": "code",
   "execution_count": 100,
   "id": "c6f913f1",
   "metadata": {},
   "outputs": [
    {
     "data": {
      "text/plain": [
       "array([0, 2, 2, 2, 0, 2, 1, 2, 0, 2, 0, 2, 2, 2, 1, 2, 2, 0, 0, 2, 2, 0,\n",
       "       0, 0, 0, 2, 0, 2, 0, 1, 1, 1, 1, 2, 2, 1, 0, 1, 0, 2, 2, 0, 0, 2,\n",
       "       0, 2, 2, 2, 1, 2, 0, 2, 2], dtype=int32)"
      ]
     },
     "execution_count": 100,
     "metadata": {},
     "output_type": "execute_result"
    }
   ],
   "source": [
    "y_pred"
   ]
  },
  {
   "cell_type": "code",
   "execution_count": 101,
   "id": "65991e0d",
   "metadata": {},
   "outputs": [
    {
     "data": {
      "text/plain": [
       "array([0., 2., 2., 2., 0., 2., 1., 2., 0., 1., 0., 1., 2., 2., 1., 2., 1.,\n",
       "       0., 0., 2., 2., 0., 0., 0., 0., 2., 0., 2., 0., 1., 1., 1., 1., 2.,\n",
       "       2., 1., 0., 1., 0., 1., 1., 0., 0., 2., 0., 2., 2., 1., 1., 1., 0.,\n",
       "       2., 2.])"
      ]
     },
     "execution_count": 101,
     "metadata": {},
     "output_type": "execute_result"
    }
   ],
   "source": [
    "y_test.ravel()"
   ]
  },
  {
   "cell_type": "code",
   "execution_count": 102,
   "id": "9508e963",
   "metadata": {},
   "outputs": [
    {
     "name": "stdout",
     "output_type": "stream",
     "text": [
      "[[0]\n",
      " [2]\n",
      " [2]\n",
      " [2]\n",
      " [0]\n",
      " [2]]\n",
      "[[0.]\n",
      " [2.]\n",
      " [2.]\n",
      " [2.]\n",
      " [0.]\n",
      " [2.]]\n"
     ]
    }
   ],
   "source": [
    "print(y_pred[:6].reshape(-1,1))\n",
    "print(y_test[:6])"
   ]
  },
  {
   "cell_type": "markdown",
   "id": "564bb43a",
   "metadata": {},
   "source": [
    "### Calculo del error y análisis de resultados"
   ]
  },
  {
   "cell_type": "code",
   "execution_count": 103,
   "id": "c34e866a",
   "metadata": {},
   "outputs": [],
   "source": [
    "def error(original_target, predict_target):\n",
    "    counter = 0.0\n",
    "    for i in range(len(original_target)):\n",
    "        if original_target[i] != predict_target[i]:\n",
    "            counter += 1\n",
    "            \n",
    "    return counter/len(original_target)"
   ]
  },
  {
   "cell_type": "code",
   "execution_count": 104,
   "id": "a7ece375",
   "metadata": {},
   "outputs": [],
   "source": [
    "ex = (error(y_test, y_pred))"
   ]
  },
  {
   "cell_type": "code",
   "execution_count": 105,
   "id": "6dc378ce",
   "metadata": {},
   "outputs": [
    {
     "name": "stdout",
     "output_type": "stream",
     "text": [
      "% Acierto:  86.79245283018868\n",
      "% Error : 13.20754716981132\n"
     ]
    }
   ],
   "source": [
    "print(\"% Acierto: \", (1-ex)*100)\n",
    "print(\"% Error :\", ex*100)"
   ]
  },
  {
   "cell_type": "code",
   "execution_count": 106,
   "id": "51a4a5d2",
   "metadata": {},
   "outputs": [
    {
     "data": {
      "text/plain": [
       "array([[18,  0,  0],\n",
       "       [ 0,  9,  7],\n",
       "       [ 0,  0, 19]], dtype=int64)"
      ]
     },
     "execution_count": 106,
     "metadata": {},
     "output_type": "execute_result"
    }
   ],
   "source": [
    "cm = confusion_matrix(y_test , y_pred)\n",
    "cm"
   ]
  },
  {
   "cell_type": "code",
   "execution_count": 107,
   "id": "14acc403",
   "metadata": {},
   "outputs": [
    {
     "data": {
      "image/png": "[encoded data removed]",
      "text/plain": [
       "<Figure size 432x288 with 2 Axes>"
      ]
     },
     "metadata": {
      "needs_background": "light"
     },
     "output_type": "display_data"
    }
   ],
   "source": [
    "y_axis_labels = iris[\"target_names\"]\n",
    "x_axis_labels = ['setosa_pred', 'versicolor_pred', 'virginica_pred']\n",
    "cm = confusion_matrix(y_test , y_pred)\n",
    "f = sns.heatmap(cm, annot=True,  xticklabels=x_axis_labels, yticklabels=y_axis_labels)"
   ]
  },
  {
   "cell_type": "code",
   "execution_count": 108,
   "id": "58dd781a",
   "metadata": {},
   "outputs": [
    {
     "name": "stdout",
     "output_type": "stream",
     "text": [
      "              precision    recall  f1-score   support\n",
      "\n",
      "      setosa       1.00      1.00      1.00        18\n",
      "  versicolor       1.00      0.56      0.72        16\n",
      "   virginica       0.73      1.00      0.84        19\n",
      "\n",
      "    accuracy                           0.87        53\n",
      "   macro avg       0.91      0.85      0.85        53\n",
      "weighted avg       0.90      0.87      0.86        53\n",
      "\n"
     ]
    }
   ],
   "source": [
    "print(classification_report(y_test, y_pred, target_names= iris[\"target_names\"]))"
   ]
  },
  {
   "cell_type": "code",
   "execution_count": 109,
   "id": "dc884004",
   "metadata": {},
   "outputs": [
    {
     "name": "stdout",
     "output_type": "stream",
     "text": [
      "Probabilidades:\n",
      " [[0.14349967 0.36067437 0.49582596]\n",
      " [0.27941312 0.40193679 0.3186501 ]\n",
      " [0.12349963 0.25816557 0.6183348 ]]\n",
      "\n",
      "suma de probabilidades: [1. 1. 1.]\n",
      "\n",
      "CLASE PREDECIDA:  [2 1 2]\n",
      "CLASE ORIGINAL: [2. 1. 2.]\n"
     ]
    }
   ],
   "source": [
    "prob,y_pred = getProbsAndPreds(X_test[5:8])\n",
    "print('Probabilidades:\\n', prob)\n",
    "print('\\nsuma de probabilidades:',np.sum(prob, axis=1))\n",
    "print('\\nCLASE PREDECIDA: ', y_pred)\n",
    "print('CLASE ORIGINAL:',y_test[5:8].ravel())"
   ]
  },
  {
   "cell_type": "code",
   "execution_count": null,
   "id": "fa3320d7",
   "metadata": {},
   "outputs": [],
   "source": []
  }
 ],
 "metadata": {
  "kernelspec": {
   "display_name": "Python 3",
   "language": "python",
   "name": "python3"
  },
  "language_info": {
   "codemirror_mode": {
    "name": "ipython",
    "version": 3
   },
   "file_extension": ".py",
   "mimetype": "text/x-python",
   "name": "python",
   "nbconvert_exporter": "python",
   "pygments_lexer": "ipython3",
   "version": "3.8.8"
  }
 },
 "nbformat": 4,
 "nbformat_minor": 5
}
