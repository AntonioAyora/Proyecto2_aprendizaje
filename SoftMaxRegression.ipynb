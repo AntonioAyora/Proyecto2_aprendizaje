{
 "cells": [
  {
   "cell_type": "markdown",
   "id": "6d25db95",
   "metadata": {},
   "source": [
    "## Proyecto 2: Clasificación \n",
    "#### Aprendizaje Automatico\n",
    "\n",
    "### SoftMax Regression: IRIS DATASET\n",
    "\n",
    "\n",
    "#### Librerías"
   ]
  },
  {
   "cell_type": "code",
   "execution_count": 31,
   "id": "f03b7462",
   "metadata": {},
   "outputs": [],
   "source": [
    "import numpy as np\n",
    "import matplotlib.pyplot as plt\n",
    "from sklearn.model_selection import train_test_split\n",
    "from sklearn import datasets\n",
    "from sklearn.metrics import confusion_matrix, classification_report\n",
    "from sklearn.linear_model import LogisticRegression\n",
    "from scipy.sparse import csr_matrix\n",
    "from sklearn.preprocessing import StandardScaler\n",
    "from sklearn.utils import shuffle\n",
    "import scipy.sparse\n",
    "import seaborn as sns"
   ]
  },
  {
   "cell_type": "markdown",
   "id": "fd373fd4",
   "metadata": {},
   "source": [
    "### Dataset \n",
    "1. Se carga el data set de iris, X es el vector de features y y es la clase de cada flor. \n",
    "2. Se realiza el escalamiento para X\n",
    "3. Los datos son ordenados aleatoriamente\n",
    "4. Se seleccionan los datos de entrenamiento y de prueba\n",
    "5. Se agrega la columna de 1's para cada vector de entrada"
   ]
  },
  {
   "cell_type": "code",
   "execution_count": 32,
   "id": "b38c533e",
   "metadata": {},
   "outputs": [],
   "source": [
    "iris = datasets.load_iris()\n",
    "X = iris[\"data\"][::]\n",
    "y = (iris[\"target\"]).astype(int).reshape(len(iris.target),1)"
   ]
  },
  {
   "cell_type": "code",
   "execution_count": 33,
   "id": "b50941eb",
   "metadata": {},
   "outputs": [],
   "source": [
    "scaler = StandardScaler()\n",
    "X = scaler.fit_transform(X)"
   ]
  },
  {
   "cell_type": "code",
   "execution_count": 34,
   "id": "d743855f",
   "metadata": {},
   "outputs": [],
   "source": [
    "def shuffleData(X, y):\n",
    "    n = X.shape[1]\n",
    "    data = np.c_[X, y]\n",
    "    data = shuffle(data)\n",
    "    \n",
    "    return data[:,0:n], data[:,n:]"
   ]
  },
  {
   "cell_type": "code",
   "execution_count": 35,
   "id": "46796e23",
   "metadata": {},
   "outputs": [],
   "source": [
    "X_, y_ = shuffleData(X, y)\n",
    "X_train, X_test, y_train, y_test = train_test_split(X_,y_, test_size=0.3, random_state=55)"
   ]
  },
  {
   "cell_type": "code",
   "execution_count": 36,
   "id": "93e78a71",
   "metadata": {},
   "outputs": [],
   "source": [
    "X_train = np.c_[np.ones((len(X_train),1)), X_train]\n",
    "X_test = np.c_[np.ones((len(X_test),1)), X_test]"
   ]
  },
  {
   "cell_type": "markdown",
   "id": "a1868a1e",
   "metadata": {},
   "source": [
    "### Score   $s_k(x)=X^T\\theta^{k}$\n",
    "Cada clase tiene su propio parámetro $\\theta^k$\n"
   ]
  },
  {
   "cell_type": "markdown",
   "id": "148f8180",
   "metadata": {},
   "source": [
    "def score_x(x, theta):\n",
    "    score=[]\n",
    "    for i in range(theta.shape[1]):\n",
    "        score.append(x @(theta[:,i]))\n",
    "    return score"
   ]
  },
  {
   "cell_type": "code",
   "execution_count": 37,
   "id": "b5a5934d",
   "metadata": {},
   "outputs": [],
   "source": [
    "def SCORE(x, theta): \n",
    "    score = x@theta\n",
    "    return score"
   ]
  },
  {
   "cell_type": "markdown",
   "id": "7d9877e5",
   "metadata": {},
   "source": [
    "### Función softmax\n",
    "\n",
    "#         $\\hat{p_k}=\\frac{\\exp(s_k(x))}{\\sum_{j=1}^{K}{\\exp(s_j(x))}}$"
   ]
  },
  {
   "cell_type": "markdown",
   "id": "19a387fc",
   "metadata": {},
   "source": [
    "def softmaxfunction(s): \n",
    "    return np.exp(s)/np.exp(s).sum()"
   ]
  },
  {
   "cell_type": "code",
   "execution_count": 38,
   "id": "ac19c450",
   "metadata": {},
   "outputs": [],
   "source": [
    "def smf(s):\n",
    "    return (np.exp(s.T) / np.sum(np.exp(s), axis=1)).T"
   ]
  },
  {
   "cell_type": "markdown",
   "id": "1566b591",
   "metadata": {},
   "source": [
    "### Función Costo y Gradiente"
   ]
  },
  {
   "cell_type": "code",
   "execution_count": 39,
   "id": "12a671f2",
   "metadata": {},
   "outputs": [],
   "source": [
    "def oneHotIt(Y):\n",
    "    m = Y.shape[0]\n",
    "    Y = Y.ravel()\n",
    "    OHX = scipy.sparse.csr_matrix((np.ones(m), (Y, np.array(range(m)))))\n",
    "    OHX = np.array(OHX.todense()).T\n",
    "    return OHX"
   ]
  },
  {
   "cell_type": "code",
   "execution_count": 40,
   "id": "79d62f22",
   "metadata": {},
   "outputs": [
    {
     "name": "stdout",
     "output_type": "stream",
     "text": [
      "Codificación One Hot para las clases\n",
      " [[0. 0. 1.]\n",
      " [1. 0. 0.]\n",
      " [0. 1. 0.]]\n",
      "Clasificación de clases\n",
      " [[2.]\n",
      " [0.]\n",
      " [1.]]\n"
     ]
    }
   ],
   "source": [
    "encoded = oneHotIt(y_train[4:7].astype(int))\n",
    "print('Codificación One Hot para las clases\\n', encoded)\n",
    "print('Clasificación de clases\\n', y_train[4:7])\n"
   ]
  },
  {
   "cell_type": "code",
   "execution_count": 41,
   "id": "2404cce7",
   "metadata": {},
   "outputs": [],
   "source": [
    "def costo(theta,x,y,lam):\n",
    "    m = x.shape[0] \n",
    "    y_mat = oneHotIt(y) \n",
    "    scores = SCORE(x,theta) \n",
    "    prob = smf(scores) \n",
    "    loss = (-1 / m) * np.sum(y_mat * np.log(prob)) #+ (lam/2)*np.sum(theta*theta) \n",
    "    grad = (-1 / m) * (x.T @ (y_mat - prob)) #+ lam*theta \n",
    "    return loss,grad"
   ]
  },
  {
   "cell_type": "code",
   "execution_count": 42,
   "id": "97e269db",
   "metadata": {},
   "outputs": [],
   "source": [
    "def getProbsAndPreds(someX):\n",
    "    probs = smf(SCORE(someX, theta))\n",
    "    preds = np.argmax(probs,axis=1)\n",
    "    return probs,preds"
   ]
  },
  {
   "cell_type": "markdown",
   "id": "120e1b1c",
   "metadata": {},
   "source": [
    "### Entrenamiento del modelo\n",
    "* $\\eta$ = 0.65\n",
    "* iteraciones = 4000\n",
    "* Método: Gradient Descent"
   ]
  },
  {
   "cell_type": "code",
   "execution_count": 43,
   "id": "f1e920d8",
   "metadata": {},
   "outputs": [
    {
     "name": "stdout",
     "output_type": "stream",
     "text": [
      "Vector de pesos iniciales: \n",
      " [[0.49912531 0.79571183 0.77187573]\n",
      " [0.48495592 0.00334217 0.10090664]\n",
      " [0.06109487 0.43879065 0.9919987 ]\n",
      " [0.66572079 0.10980114 0.28420644]\n",
      " [0.82307153 0.23247889 0.54471073]]\n"
     ]
    }
   ],
   "source": [
    "theta = np.random.rand(X_train.shape[1],len(np.unique(y_train)))\n",
    "print ('Vector de pesos iniciales: \\n',  theta)"
   ]
  },
  {
   "cell_type": "code",
   "execution_count": 44,
   "id": "d34f6683",
   "metadata": {},
   "outputs": [
    {
     "name": "stdout",
     "output_type": "stream",
     "text": [
      "Costo final:  0.03173929525376397\n"
     ]
    }
   ],
   "source": [
    "eta = 0.85\n",
    "n_epochs= 5000\n",
    "\n",
    "J = []\n",
    "for i in range(0,n_epochs):\n",
    "    loss,grad = costo(theta,X_train,y_train.astype(int),1)\n",
    "    J.append(loss)\n",
    "    theta = theta - (eta * grad)\n",
    "print ('Costo final: ', loss)"
   ]
  },
  {
   "cell_type": "code",
   "execution_count": 45,
   "id": "7c4c8fe8",
   "metadata": {},
   "outputs": [
    {
     "name": "stdout",
     "output_type": "stream",
     "text": [
      "El mejor vector de pesos de acuerdo al entrenamiento:\n",
      " [[ 0.56094834  7.63110211 -6.12533758]\n",
      " [-2.77654788  2.48379228  0.88196033]\n",
      " [ 3.21158481  0.0172109  -1.73691149]\n",
      " [-5.64395504 -1.17488719  7.87857061]\n",
      " [-4.80119419 -3.11357635  9.51503168]]\n"
     ]
    }
   ],
   "source": [
    "print ('El mejor vector de pesos de acuerdo al entrenamiento:\\n', theta)"
   ]
  },
  {
   "cell_type": "code",
   "execution_count": 46,
   "id": "b8cecf73",
   "metadata": {},
   "outputs": [
    {
     "data": {
      "image/png": "[encoded data removed]",
      "text/plain": [
       "<Figure size 432x288 with 1 Axes>"
      ]
     },
     "metadata": {
      "needs_background": "light"
     },
     "output_type": "display_data"
    }
   ],
   "source": [
    "plt.title('Función costo vs iteraciones', fontsize=18)\n",
    "plt.ylabel(r'$J\\theta$', fontsize=18)\n",
    "plt.xlabel('iteraciones', fontsize=18)\n",
    "plt.grid()\n",
    "plt.plot(J)\n",
    "plt.show()"
   ]
  },
  {
   "cell_type": "markdown",
   "id": "67d8936a",
   "metadata": {},
   "source": [
    "## Predicciones\n",
    "Predicciones para los datos de prueba"
   ]
  },
  {
   "cell_type": "code",
   "execution_count": 47,
   "id": "07847346",
   "metadata": {},
   "outputs": [],
   "source": [
    "prob,y_pred = getProbsAndPreds(X_test)"
   ]
  },
  {
   "cell_type": "code",
   "execution_count": 48,
   "id": "ece6c4a9",
   "metadata": {},
   "outputs": [
    {
     "data": {
      "text/plain": [
       "array([2, 0, 2, 2, 0, 1, 1, 2, 1, 0, 1, 0, 0, 1, 1, 2, 2, 0, 0, 0, 0, 0,\n",
       "       1, 0, 0, 0, 1, 0, 2, 0, 2, 0, 2, 2, 1, 1, 1, 1, 1, 2, 0, 0, 0, 1,\n",
       "       0], dtype=int32)"
      ]
     },
     "execution_count": 48,
     "metadata": {},
     "output_type": "execute_result"
    }
   ],
   "source": [
    "y_pred"
   ]
  },
  {
   "cell_type": "code",
   "execution_count": 49,
   "id": "9ac62da1",
   "metadata": {},
   "outputs": [
    {
     "data": {
      "text/plain": [
       "array([2., 0., 2., 2., 0., 1., 1., 1., 1., 0., 1., 0., 0., 1., 1., 2., 2.,\n",
       "       0., 0., 0., 0., 0., 1., 0., 0., 0., 1., 0., 2., 0., 2., 0., 2., 2.,\n",
       "       1., 1., 1., 1., 2., 2., 0., 0., 0., 1., 0.])"
      ]
     },
     "execution_count": 49,
     "metadata": {},
     "output_type": "execute_result"
    }
   ],
   "source": [
    "y_test.ravel()"
   ]
  },
  {
   "cell_type": "code",
   "execution_count": 50,
   "id": "feb32afc",
   "metadata": {},
   "outputs": [
    {
     "name": "stdout",
     "output_type": "stream",
     "text": [
      "[[2]\n",
      " [0]\n",
      " [2]\n",
      " [2]\n",
      " [0]\n",
      " [1]]\n",
      "[[2.]\n",
      " [0.]\n",
      " [2.]\n",
      " [2.]\n",
      " [0.]\n",
      " [1.]]\n"
     ]
    }
   ],
   "source": [
    "print(y_pred[:6].reshape(-1,1))\n",
    "print(y_test[:6])"
   ]
  },
  {
   "cell_type": "markdown",
   "id": "5416995d",
   "metadata": {},
   "source": [
    "### Calculo del error y análisis de resultados"
   ]
  },
  {
   "cell_type": "code",
   "execution_count": 51,
   "id": "526dfd3f",
   "metadata": {},
   "outputs": [],
   "source": [
    "def error(original_target, predict_target):\n",
    "    counter = 0.0\n",
    "    for i in range(len(original_target)):\n",
    "        if original_target[i] != predict_target[i]:\n",
    "            counter += 1\n",
    "            \n",
    "    return counter/len(original_target)"
   ]
  },
  {
   "cell_type": "code",
   "execution_count": 52,
   "id": "b3a7d1e7",
   "metadata": {},
   "outputs": [],
   "source": [
    "ex = (error(y_test, y_pred))"
   ]
  },
  {
   "cell_type": "code",
   "execution_count": 53,
   "id": "e1ec008d",
   "metadata": {},
   "outputs": [
    {
     "name": "stdout",
     "output_type": "stream",
     "text": [
      "% Acierto:  95.55555555555556\n",
      "% Error : 4.444444444444445\n"
     ]
    }
   ],
   "source": [
    "print(\"% Acierto: \", (1-ex)*100)\n",
    "print(\"% Error :\", ex*100)"
   ]
  },
  {
   "cell_type": "code",
   "execution_count": 54,
   "id": "4fb4bc49",
   "metadata": {},
   "outputs": [
    {
     "data": {
      "text/plain": [
       "array([[20,  0,  0],\n",
       "       [ 0, 13,  1],\n",
       "       [ 0,  1, 10]], dtype=int64)"
      ]
     },
     "execution_count": 54,
     "metadata": {},
     "output_type": "execute_result"
    }
   ],
   "source": [
    "cm = confusion_matrix(y_test , y_pred)\n",
    "cm"
   ]
  },
  {
   "cell_type": "code",
   "execution_count": 55,
   "id": "56d618e7",
   "metadata": {},
   "outputs": [
    {
     "data": {
      "image/png": "[encoded data removed]",
      "text/plain": [
       "<Figure size 432x288 with 2 Axes>"
      ]
     },
     "metadata": {
      "needs_background": "light"
     },
     "output_type": "display_data"
    }
   ],
   "source": [
    "y_axis_labels = iris[\"target_names\"]\n",
    "x_axis_labels = ['setosa_pred', 'versicolor_pred', 'virginica_pred']\n",
    "cm = confusion_matrix(y_test , y_pred)\n",
    "f = sns.heatmap(cm, annot=True,  xticklabels=x_axis_labels, yticklabels=y_axis_labels)"
   ]
  },
  {
   "cell_type": "code",
   "execution_count": 56,
   "id": "e699ab84",
   "metadata": {},
   "outputs": [
    {
     "name": "stdout",
     "output_type": "stream",
     "text": [
      "              precision    recall  f1-score   support\n",
      "\n",
      "      setosa       1.00      1.00      1.00        20\n",
      "  versicolor       0.93      0.93      0.93        14\n",
      "   virginica       0.91      0.91      0.91        11\n",
      "\n",
      "    accuracy                           0.96        45\n",
      "   macro avg       0.95      0.95      0.95        45\n",
      "weighted avg       0.96      0.96      0.96        45\n",
      "\n"
     ]
    }
   ],
   "source": [
    "print(classification_report(y_test, y_pred, target_names= iris[\"target_names\"]))"
   ]
  },
  {
   "cell_type": "code",
   "execution_count": 57,
   "id": "a3f0e432",
   "metadata": {},
   "outputs": [
    {
     "name": "stdout",
     "output_type": "stream",
     "text": [
      "Probabilidades:\n",
      " [[1.01757239e-05 9.83925548e-01 1.60642764e-02]\n",
      " [7.16959433e-04 9.78425703e-01 2.08573378e-02]\n",
      " [9.09559216e-06 2.88136095e-01 7.11854809e-01]]\n",
      "\n",
      "suma de probabilidades: [1. 1. 1.]\n",
      "\n",
      "CLASE PREDECIDA:  [1 1 2]\n",
      "CLASE ORIGINAL: [1. 1. 1.]\n"
     ]
    }
   ],
   "source": [
    "prob,y_pred = getProbsAndPreds(X_test[5:8])\n",
    "print('Probabilidades:\\n', prob)\n",
    "print('\\nsuma de probabilidades:',np.sum(prob, axis=1))\n",
    "print('\\nCLASE PREDECIDA: ', y_pred)\n",
    "print('CLASE ORIGINAL:',y_test[5:8].ravel())"
   ]
  },
  {
   "cell_type": "code",
   "execution_count": null,
   "id": "6496a7a1",
   "metadata": {},
   "outputs": [],
   "source": []
  }
 ],
 "metadata": {
  "kernelspec": {
   "display_name": "Python 3",
   "language": "python",
   "name": "python3"
  },
  "language_info": {
   "codemirror_mode": {
    "name": "ipython",
    "version": 3
   },
   "file_extension": ".py",
   "mimetype": "text/x-python",
   "name": "python",
   "nbconvert_exporter": "python",
   "pygments_lexer": "ipython3",
   "version": "3.8.8"
  }
 },
 "nbformat": 4,
 "nbformat_minor": 5
}
